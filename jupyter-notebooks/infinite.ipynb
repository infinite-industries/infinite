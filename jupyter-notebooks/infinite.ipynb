{
 "cells": [
  {
   "cell_type": "code",
   "execution_count": 5,
   "metadata": {},
   "outputs": [
    {
     "name": "stdout",
     "output_type": "stream",
     "text": [
      "Requirement already satisfied: pandas in /home/chris/.local/lib/python3.7/site-packages (0.25.3)\n",
      "Requirement already satisfied: pytz>=2017.2 in /usr/lib/python3/dist-packages (from pandas) (2019.2)\n",
      "Requirement already satisfied: numpy>=1.13.3 in /home/chris/.local/lib/python3.7/site-packages (from pandas) (1.17.3)\n",
      "Requirement already satisfied: python-dateutil>=2.6.1 in /home/chris/.local/lib/python3.7/site-packages (from pandas) (2.8.0)\n",
      "Requirement already satisfied: six>=1.5 in /usr/lib/python3/dist-packages (from python-dateutil>=2.6.1->pandas) (1.12.0)\n",
      "Requirement already satisfied: psycopg2-binary in /home/chris/.local/lib/python3.7/site-packages (2.8.4)\n"
     ]
    }
   ],
   "source": [
    "# You only need to run this cell once to setup your system\n",
    "\n",
    "!pip3 install --user pandas\n",
    "!pip3 install --user psycopg2-binary"
   ]
  },
  {
   "cell_type": "markdown",
   "metadata": {},
   "source": [
    "### Helper Methods and Imports"
   ]
  },
  {
   "cell_type": "code",
   "execution_count": 2,
   "metadata": {},
   "outputs": [],
   "source": [
    "import os\n",
    "import psycopg2\n",
    "import pandas as pd\n",
    "import matplotlib.pyplot as plt\n",
    "import numpy as np\n",
    "from textwrap import wrap\n",
    "\n",
    "%matplotlib inline\n",
    "\n",
    "# get the database connection (assumes environment variables are set as seen below -- use the force read the source)\n",
    "env = 'prod'\n",
    "\n",
    "def get_connection():\n",
    "    conn = psycopg2.connect(\n",
    "        host=os.environ[\"infinite_jupyter_db_host_\" + env],\n",
    "        port=os.environ[\"infinite_jupyter_db_port_\" + env],\n",
    "        dbname=os.environ[\"infinite_jupyter_db_name_\" + env],\n",
    "        user=os.environ[\"infinite_jupyter_db_user_\" + env],\n",
    "        password=os.environ[\"infinite_jupyter_db_pw_\" + env]\n",
    "    )\n",
    "\n",
    "    cur = conn.cursor()\n",
    "    \n",
    "    return cur"
   ]
  },
  {
   "cell_type": "markdown",
   "metadata": {},
   "source": [
    "### SQL Queries"
   ]
  },
  {
   "cell_type": "code",
   "execution_count": 3,
   "metadata": {},
   "outputs": [],
   "source": [
    "sql_get_venues_with_event_counts_for_all_time = \"\"\"\n",
    "SELECT num_events, venues.*\n",
    "FROM venues\n",
    "JOIN (\n",
    "    SELECT events.venue_id, COUNT(events.venue_id) as num_events\n",
    "    FROM events\n",
    "    GROUP BY (events.venue_id)\n",
    "\n",
    ") sub ON sub.venue_id = venues.id\n",
    "ORDER BY num_events DESC;\n",
    "\"\"\"\n",
    "\n"
   ]
  },
  {
   "cell_type": "markdown",
   "metadata": {},
   "source": [
    "### Show Venues with the Most Events (Top 10 All Time)"
   ]
  },
  {
   "cell_type": "code",
   "execution_count": 5,
   "metadata": {},
   "outputs": [
    {
     "data": {
      "image/png": "[encoded data removed]",
      "text/plain": [
       "<Figure size 1440x360 with 1 Axes>"
      ]
     },
     "metadata": {
      "needs_background": "light"
     },
     "output_type": "display_data"
    }
   ],
   "source": [
    "# Get the data\n",
    "cur = get_connection()\n",
    "\n",
    "cur.execute(sql_get_venues_with_event_counts_for_all_time)\n",
    "venues_by_num_events_all_time = cur.fetchall()\n",
    "\n",
    "cur.close()\n",
    "\n",
    "# plot the top 10\n",
    "event_count_col = 0\n",
    "venue_name_col = 2\n",
    "\n",
    "top_10_venues = venues_by_num_events_all_time[:10]\n",
    "top_10_venue_vals = [row[event_count_col] for row in top_10_venues]\n",
    "top_10_venue_lablels = [row[venue_name_col] for row in top_10_venues]\n",
    "top_10_venue_lablels = ['\\n'.join(wrap(l, 10)) for l in top_10_venue_lablels]\n",
    "\n",
    "x = np.arange(len(top_10_venues))\n",
    "\n",
    "#fig=plt.figure(figsize=(18, 16), dpi= 80, facecolor='w', edgecolor='k')\n",
    "fig, ax = plt.subplots(figsize=(20, 5))\n",
    "plt.bar(x, top_10_venue_vals)\n",
    "plt.xticks(x, top_10_venue_lablels)\n",
    "plt.show()"
   ]
  },
  {
   "cell_type": "code",
   "execution_count": null,
   "metadata": {},
   "outputs": [],
   "source": []
  }
 ],
 "metadata": {
  "kernelspec": {
   "display_name": "Python 3",
   "language": "python",
   "name": "python3"
  },
  "language_info": {
   "codemirror_mode": {
    "name": "ipython",
    "version": 3
   },
   "file_extension": ".py",
   "mimetype": "text/x-python",
   "name": "python",
   "nbconvert_exporter": "python",
   "pygments_lexer": "ipython3",
   "version": "3.7.5"
  }
 },
 "nbformat": 4,
 "nbformat_minor": 2
}
